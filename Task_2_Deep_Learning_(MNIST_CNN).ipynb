{
  "cells": [
    {
      "cell_type": "markdown",
      "metadata": {
        "id": "view-in-github",
        "colab_type": "text"
      },
      "source": [
        "<a href=\"https://colab.research.google.com/github/kimanirobbi/wk-3-ai/blob/main/Task_2_Deep_Learning_(MNIST_CNN).ipynb\" target=\"_parent\"><img src=\"https://colab.research.google.com/assets/colab-badge.svg\" alt=\"Open In Colab\"/></a>"
      ]
    },
    {
      "cell_type": "code",
      "execution_count": null,
      "metadata": {
        "colab": {
          "background_save": true,
          "base_uri": "https://localhost:8080/"
        },
        "id": "0ZV5_ewKcch0",
        "outputId": "220f883f-1f73-43fb-9843-ef8c1f617c8f"
      },
      "outputs": [
        {
          "name": "stdout",
          "output_type": "stream",
          "text": [
            "--- Task 2: Deep Learning (CNN on MNIST) ---\n",
            "Training data shape: (60000, 28, 28, 1)\n",
            "Test data shape: (10000, 28, 28, 1)\n"
          ]
        },
        {
          "name": "stderr",
          "output_type": "stream",
          "text": [
            "/usr/local/lib/python3.12/dist-packages/keras/src/layers/convolutional/base_conv.py:113: UserWarning: Do not pass an `input_shape`/`input_dim` argument to a layer. When using Sequential models, prefer using an `Input(shape)` object as the first layer in the model instead.\n",
            "  super().__init__(activity_regularizer=activity_regularizer, **kwargs)\n"
          ]
        },
        {
          "data": {
            "text/html": [
              "<pre style=\"white-space:pre;overflow-x:auto;line-height:normal;font-family:Menlo,'DejaVu Sans Mono',consolas,'Courier New',monospace\"><span style=\"font-weight: bold\">Model: \"sequential\"</span>\n",
              "</pre>\n"
            ],
            "text/plain": [
              "\u001b[1mModel: \"sequential\"\u001b[0m\n"
            ]
          },
          "metadata": {},
          "output_type": "display_data"
        },
        {
          "data": {
            "text/html": [
              "<pre style=\"white-space:pre;overflow-x:auto;line-height:normal;font-family:Menlo,'DejaVu Sans Mono',consolas,'Courier New',monospace\">┏━━━━━━━━━━━━━━━━━━━━━━━━━━━━━━━━━┳━━━━━━━━━━━━━━━━━━━━━━━━┳━━━━━━━━━━━━━━━┓\n",
              "┃<span style=\"font-weight: bold\"> Layer (type)                    </span>┃<span style=\"font-weight: bold\"> Output Shape           </span>┃<span style=\"font-weight: bold\">       Param # </span>┃\n",
              "┡━━━━━━━━━━━━━━━━━━━━━━━━━━━━━━━━━╇━━━━━━━━━━━━━━━━━━━━━━━━╇━━━━━━━━━━━━━━━┩\n",
              "│ conv2d (<span style=\"color: #0087ff; text-decoration-color: #0087ff\">Conv2D</span>)                 │ (<span style=\"color: #00d7ff; text-decoration-color: #00d7ff\">None</span>, <span style=\"color: #00af00; text-decoration-color: #00af00\">26</span>, <span style=\"color: #00af00; text-decoration-color: #00af00\">26</span>, <span style=\"color: #00af00; text-decoration-color: #00af00\">32</span>)     │           <span style=\"color: #00af00; text-decoration-color: #00af00\">320</span> │\n",
              "├─────────────────────────────────┼────────────────────────┼───────────────┤\n",
              "│ max_pooling2d (<span style=\"color: #0087ff; text-decoration-color: #0087ff\">MaxPooling2D</span>)    │ (<span style=\"color: #00d7ff; text-decoration-color: #00d7ff\">None</span>, <span style=\"color: #00af00; text-decoration-color: #00af00\">13</span>, <span style=\"color: #00af00; text-decoration-color: #00af00\">13</span>, <span style=\"color: #00af00; text-decoration-color: #00af00\">32</span>)     │             <span style=\"color: #00af00; text-decoration-color: #00af00\">0</span> │\n",
              "├─────────────────────────────────┼────────────────────────┼───────────────┤\n",
              "│ conv2d_1 (<span style=\"color: #0087ff; text-decoration-color: #0087ff\">Conv2D</span>)               │ (<span style=\"color: #00d7ff; text-decoration-color: #00d7ff\">None</span>, <span style=\"color: #00af00; text-decoration-color: #00af00\">11</span>, <span style=\"color: #00af00; text-decoration-color: #00af00\">11</span>, <span style=\"color: #00af00; text-decoration-color: #00af00\">64</span>)     │        <span style=\"color: #00af00; text-decoration-color: #00af00\">18,496</span> │\n",
              "├─────────────────────────────────┼────────────────────────┼───────────────┤\n",
              "│ max_pooling2d_1 (<span style=\"color: #0087ff; text-decoration-color: #0087ff\">MaxPooling2D</span>)  │ (<span style=\"color: #00d7ff; text-decoration-color: #00d7ff\">None</span>, <span style=\"color: #00af00; text-decoration-color: #00af00\">5</span>, <span style=\"color: #00af00; text-decoration-color: #00af00\">5</span>, <span style=\"color: #00af00; text-decoration-color: #00af00\">64</span>)       │             <span style=\"color: #00af00; text-decoration-color: #00af00\">0</span> │\n",
              "├─────────────────────────────────┼────────────────────────┼───────────────┤\n",
              "│ flatten (<span style=\"color: #0087ff; text-decoration-color: #0087ff\">Flatten</span>)               │ (<span style=\"color: #00d7ff; text-decoration-color: #00d7ff\">None</span>, <span style=\"color: #00af00; text-decoration-color: #00af00\">1600</span>)           │             <span style=\"color: #00af00; text-decoration-color: #00af00\">0</span> │\n",
              "├─────────────────────────────────┼────────────────────────┼───────────────┤\n",
              "│ dense (<span style=\"color: #0087ff; text-decoration-color: #0087ff\">Dense</span>)                   │ (<span style=\"color: #00d7ff; text-decoration-color: #00d7ff\">None</span>, <span style=\"color: #00af00; text-decoration-color: #00af00\">100</span>)            │       <span style=\"color: #00af00; text-decoration-color: #00af00\">160,100</span> │\n",
              "├─────────────────────────────────┼────────────────────────┼───────────────┤\n",
              "│ dense_1 (<span style=\"color: #0087ff; text-decoration-color: #0087ff\">Dense</span>)                 │ (<span style=\"color: #00d7ff; text-decoration-color: #00d7ff\">None</span>, <span style=\"color: #00af00; text-decoration-color: #00af00\">10</span>)             │         <span style=\"color: #00af00; text-decoration-color: #00af00\">1,010</span> │\n",
              "└─────────────────────────────────┴────────────────────────┴───────────────┘\n",
              "</pre>\n"
            ],
            "text/plain": [
              "┏━━━━━━━━━━━━━━━━━━━━━━━━━━━━━━━━━┳━━━━━━━━━━━━━━━━━━━━━━━━┳━━━━━━━━━━━━━━━┓\n",
              "┃\u001b[1m \u001b[0m\u001b[1mLayer (type)                   \u001b[0m\u001b[1m \u001b[0m┃\u001b[1m \u001b[0m\u001b[1mOutput Shape          \u001b[0m\u001b[1m \u001b[0m┃\u001b[1m \u001b[0m\u001b[1m      Param #\u001b[0m\u001b[1m \u001b[0m┃\n",
              "┡━━━━━━━━━━━━━━━━━━━━━━━━━━━━━━━━━╇━━━━━━━━━━━━━━━━━━━━━━━━╇━━━━━━━━━━━━━━━┩\n",
              "│ conv2d (\u001b[38;5;33mConv2D\u001b[0m)                 │ (\u001b[38;5;45mNone\u001b[0m, \u001b[38;5;34m26\u001b[0m, \u001b[38;5;34m26\u001b[0m, \u001b[38;5;34m32\u001b[0m)     │           \u001b[38;5;34m320\u001b[0m │\n",
              "├─────────────────────────────────┼────────────────────────┼───────────────┤\n",
              "│ max_pooling2d (\u001b[38;5;33mMaxPooling2D\u001b[0m)    │ (\u001b[38;5;45mNone\u001b[0m, \u001b[38;5;34m13\u001b[0m, \u001b[38;5;34m13\u001b[0m, \u001b[38;5;34m32\u001b[0m)     │             \u001b[38;5;34m0\u001b[0m │\n",
              "├─────────────────────────────────┼────────────────────────┼───────────────┤\n",
              "│ conv2d_1 (\u001b[38;5;33mConv2D\u001b[0m)               │ (\u001b[38;5;45mNone\u001b[0m, \u001b[38;5;34m11\u001b[0m, \u001b[38;5;34m11\u001b[0m, \u001b[38;5;34m64\u001b[0m)     │        \u001b[38;5;34m18,496\u001b[0m │\n",
              "├─────────────────────────────────┼────────────────────────┼───────────────┤\n",
              "│ max_pooling2d_1 (\u001b[38;5;33mMaxPooling2D\u001b[0m)  │ (\u001b[38;5;45mNone\u001b[0m, \u001b[38;5;34m5\u001b[0m, \u001b[38;5;34m5\u001b[0m, \u001b[38;5;34m64\u001b[0m)       │             \u001b[38;5;34m0\u001b[0m │\n",
              "├─────────────────────────────────┼────────────────────────┼───────────────┤\n",
              "│ flatten (\u001b[38;5;33mFlatten\u001b[0m)               │ (\u001b[38;5;45mNone\u001b[0m, \u001b[38;5;34m1600\u001b[0m)           │             \u001b[38;5;34m0\u001b[0m │\n",
              "├─────────────────────────────────┼────────────────────────┼───────────────┤\n",
              "│ dense (\u001b[38;5;33mDense\u001b[0m)                   │ (\u001b[38;5;45mNone\u001b[0m, \u001b[38;5;34m100\u001b[0m)            │       \u001b[38;5;34m160,100\u001b[0m │\n",
              "├─────────────────────────────────┼────────────────────────┼───────────────┤\n",
              "│ dense_1 (\u001b[38;5;33mDense\u001b[0m)                 │ (\u001b[38;5;45mNone\u001b[0m, \u001b[38;5;34m10\u001b[0m)             │         \u001b[38;5;34m1,010\u001b[0m │\n",
              "└─────────────────────────────────┴────────────────────────┴───────────────┘\n"
            ]
          },
          "metadata": {},
          "output_type": "display_data"
        },
        {
          "data": {
            "text/html": [
              "<pre style=\"white-space:pre;overflow-x:auto;line-height:normal;font-family:Menlo,'DejaVu Sans Mono',consolas,'Courier New',monospace\"><span style=\"font-weight: bold\"> Total params: </span><span style=\"color: #00af00; text-decoration-color: #00af00\">179,926</span> (702.84 KB)\n",
              "</pre>\n"
            ],
            "text/plain": [
              "\u001b[1m Total params: \u001b[0m\u001b[38;5;34m179,926\u001b[0m (702.84 KB)\n"
            ]
          },
          "metadata": {},
          "output_type": "display_data"
        },
        {
          "data": {
            "text/html": [
              "<pre style=\"white-space:pre;overflow-x:auto;line-height:normal;font-family:Menlo,'DejaVu Sans Mono',consolas,'Courier New',monospace\"><span style=\"font-weight: bold\"> Trainable params: </span><span style=\"color: #00af00; text-decoration-color: #00af00\">179,926</span> (702.84 KB)\n",
              "</pre>\n"
            ],
            "text/plain": [
              "\u001b[1m Trainable params: \u001b[0m\u001b[38;5;34m179,926\u001b[0m (702.84 KB)\n"
            ]
          },
          "metadata": {},
          "output_type": "display_data"
        },
        {
          "data": {
            "text/html": [
              "<pre style=\"white-space:pre;overflow-x:auto;line-height:normal;font-family:Menlo,'DejaVu Sans Mono',consolas,'Courier New',monospace\"><span style=\"font-weight: bold\"> Non-trainable params: </span><span style=\"color: #00af00; text-decoration-color: #00af00\">0</span> (0.00 B)\n",
              "</pre>\n"
            ],
            "text/plain": [
              "\u001b[1m Non-trainable params: \u001b[0m\u001b[38;5;34m0\u001b[0m (0.00 B)\n"
            ]
          },
          "metadata": {},
          "output_type": "display_data"
        },
        {
          "name": "stdout",
          "output_type": "stream",
          "text": [
            "\n",
            "--- Starting Model Training (5 Epochs) ---\n",
            "Epoch 1/5\n",
            "\u001b[1m422/422\u001b[0m \u001b[32m━━━━━━━━━━━━━━━━━━━━\u001b[0m\u001b[37m\u001b[0m \u001b[1m47s\u001b[0m 107ms/step - accuracy: 0.8417 - loss: 0.5424 - val_accuracy: 0.9830 - val_loss: 0.0606\n",
            "Epoch 2/5\n",
            "\u001b[1m422/422\u001b[0m \u001b[32m━━━━━━━━━━━━━━━━━━━━\u001b[0m\u001b[37m\u001b[0m \u001b[1m46s\u001b[0m 108ms/step - accuracy: 0.9803 - loss: 0.0650 - val_accuracy: 0.9875 - val_loss: 0.0440\n",
            "Epoch 3/5\n",
            "\u001b[1m422/422\u001b[0m \u001b[32m━━━━━━━━━━━━━━━━━━━━\u001b[0m\u001b[37m\u001b[0m \u001b[1m81s\u001b[0m 106ms/step - accuracy: 0.9876 - loss: 0.0411 - val_accuracy: 0.9892 - val_loss: 0.0399\n",
            "Epoch 4/5\n",
            "\u001b[1m422/422\u001b[0m \u001b[32m━━━━━━━━━━━━━━━━━━━━\u001b[0m\u001b[37m\u001b[0m \u001b[1m45s\u001b[0m 107ms/step - accuracy: 0.9909 - loss: 0.0302 - val_accuracy: 0.9900 - val_loss: 0.0371\n",
            "Epoch 5/5\n",
            "\u001b[1m422/422\u001b[0m \u001b[32m━━━━━━━━━━━━━━━━━━━━\u001b[0m\u001b[37m\u001b[0m \u001b[1m44s\u001b[0m 104ms/step - accuracy: 0.9927 - loss: 0.0244 - val_accuracy: 0.9898 - val_loss: 0.0383\n",
            "Model training complete.\n",
            "\n",
            "--- Final Test Set Evaluation ---\n",
            "Test Loss: 0.0321\n",
            "Test Accuracy: 0.9894\n",
            "SUCCESS: Target accuracy > 95% achieved.\n",
            "\u001b[1m1/1\u001b[0m \u001b[32m━━━━━━━━━━━━━━━━━━━━\u001b[0m\u001b[37m\u001b[0m \u001b[1m0s\u001b[0m 103ms/step\n",
            "\n",
            "--- Visualizing Predictions for 5 Samples ---\n"
          ]
        },
        {
          "data": {
            "image/png": "[encoded data removed]",
            "text/plain": [
              "<Figure size 1200x300 with 5 Axes>"
            ]
          },
          "metadata": {},
          "output_type": "display_data"
        }
      ],
      "source": [
        "import tensorflow as tf\n",
        "from tensorflow.keras.datasets import mnist\n",
        "from tensorflow.keras.models import Sequential\n",
        "from tensorflow.keras.layers import Conv2D, MaxPooling2D, Flatten, Dense\n",
        "import matplotlib.pyplot as plt\n",
        "import numpy as np\n",
        "\n",
        "# Set random seed for reproducibility\n",
        "tf.random.set_seed(42)\n",
        "\n",
        "# -----------------------------------------------------------\n",
        "# 1. Data Loading and Preprocessing\n",
        "# -----------------------------------------------------------\n",
        "print(\"--- Task 2: Deep Learning (CNN on MNIST) ---\")\n",
        "\n",
        "# Load the MNIST dataset\n",
        "(X_train, y_train), (X_test, y_test) = mnist.load_data()\n",
        "\n",
        "# 1a. Reshape and Normalize Input Data\n",
        "# MNIST images are 28x28 grayscale. CNN expects (samples, height, width, channels)\n",
        "X_train = X_train.reshape((X_train.shape[0], 28, 28, 1)).astype('float32') / 255.0\n",
        "X_test = X_test.reshape((X_test.shape[0], 28, 28, 1)).astype('float32') / 255.0\n",
        "\n",
        "# 1b. One-Hot Encode Target Data\n",
        "# Convert integer labels (0-9) to categorical (10 classes)\n",
        "y_train = tf.keras.utils.to_categorical(y_train, num_classes=10)\n",
        "y_test = tf.keras.utils.to_categorical(y_test, num_classes=10)\n",
        "\n",
        "print(f\"Training data shape: {X_train.shape}\")\n",
        "print(f\"Test data shape: {X_test.shape}\")\n",
        "\n",
        "# -----------------------------------------------------------\n",
        "# 2. Build the CNN Model\n",
        "# -----------------------------------------------------------\n",
        "\n",
        "model = Sequential([\n",
        "    # Convolutional Layer 1: Learn 32 filters of size 3x3\n",
        "    Conv2D(32, (3, 3), activation='relu', input_shape=(28, 28, 1)),\n",
        "    # Pooling Layer 1: Downsample the feature maps by 2x2\n",
        "    MaxPooling2D((2, 2)),\n",
        "\n",
        "    # Convolutional Layer 2: Learn 64 filters of size 3x3\n",
        "    Conv2D(64, (3, 3), activation='relu'),\n",
        "    # Pooling Layer 2\n",
        "    MaxPooling2D((2, 2)),\n",
        "\n",
        "    # Flatten the 2D feature maps to a 1D vector for the Dense layers\n",
        "    Flatten(),\n",
        "\n",
        "    # Dense Layer 1: Hidden layer with 100 neurons\n",
        "    Dense(100, activation='relu'),\n",
        "\n",
        "    # Output Layer: 10 neurons (one for each digit 0-9) with softmax activation\n",
        "    # Softmax ensures the outputs are probabilities that sum to 1.\n",
        "    Dense(10, activation='softmax')\n",
        "])\n",
        "\n",
        "# 3. Compile the Model\n",
        "# Optimizer: Adam is efficient for many tasks.\n",
        "# Loss: Categorical Crossentropy is used for multi-class classification with one-hot targets.\n",
        "# Metrics: Track accuracy during training.\n",
        "model.compile(\n",
        "    optimizer='adam',\n",
        "    loss='categorical_crossentropy',\n",
        "    metrics=['accuracy']\n",
        ")\n",
        "\n",
        "model.summary()\n",
        "\n",
        "# -----------------------------------------------------------\n",
        "# 4. Train the Model\n",
        "# -----------------------------------------------------------\n",
        "print(\"\\n--- Starting Model Training (5 Epochs) ---\")\n",
        "# Training the model (a small number of epochs is chosen for fast run time,\n",
        "# but more epochs would ensure the >95% accuracy goal)\n",
        "history = model.fit(\n",
        "    X_train, y_train,\n",
        "    epochs=5, # Typically 10-15 epochs needed for >95% on MNIST\n",
        "    batch_size=128,\n",
        "    validation_split=0.1, # Use 10% of training data for validation\n",
        "    verbose=1\n",
        ")\n",
        "print(\"Model training complete.\")\n",
        "\n",
        "# -----------------------------------------------------------\n",
        "# 5. Evaluate and Visualize Predictions\n",
        "# -----------------------------------------------------------\n",
        "\n",
        "# 5a. Evaluate on Test Data\n",
        "loss, accuracy = model.evaluate(X_test, y_test, verbose=0)\n",
        "print(\"\\n--- Final Test Set Evaluation ---\")\n",
        "print(f\"Test Loss: {loss:.4f}\")\n",
        "print(f\"Test Accuracy: {accuracy:.4f}\")\n",
        "\n",
        "# Target Test Accuracy > 0.95 (If 5 epochs is not enough, run more epochs)\n",
        "if accuracy > 0.95:\n",
        "    print(\"SUCCESS: Target accuracy > 95% achieved.\")\n",
        "else:\n",
        "    print(f\"Note: Accuracy is {accuracy:.4f}. Rerunning for more epochs (e.g., 15) is recommended to reach >95%.\")\n",
        "\n",
        "# 5b. Visualize Predictions on 5 Sample Images\n",
        "num_samples = 5\n",
        "# Get the first 5 test images and their predictions\n",
        "sample_images = X_test[:num_samples]\n",
        "sample_labels = np.argmax(y_test[:num_samples], axis=1) # Convert one-hot back to integer\n",
        "predictions = model.predict(sample_images)\n",
        "predicted_labels = np.argmax(predictions, axis=1)\n",
        "\n",
        "print(f\"\\n--- Visualizing Predictions for {num_samples} Samples ---\")\n",
        "\n",
        "fig, axes = plt.subplots(1, num_samples, figsize=(12, 3))\n",
        "for i in range(num_samples):\n",
        "    # Remove the channel dimension (1) for plotting\n",
        "    axes[i].imshow(sample_images[i].squeeze(), cmap='gray')\n",
        "    axes[i].set_title(\n",
        "        f\"True: {sample_labels[i]}\\nPred: {predicted_labels[i]}\",\n",
        "        fontsize=10,\n",
        "        color='green' if sample_labels[i] == predicted_labels[i] else 'red'\n",
        "    )\n",
        "    axes[i].axis('off')\n",
        "\n",
        "# Save the figure to show the visualization (optional)\n",
        "# plt.savefig('mnist_predictions.png')\n",
        "# For interactive environments, display the plot\n",
        "plt.tight_layout()\n",
        "plt.show()"
      ]
    },
    {
      "cell_type": "code",
      "execution_count": null,
      "metadata": {
        "colab": {
          "background_save": true
        },
        "id": "mgwRgXtEjhLd",
        "outputId": "52eacffe-8b1b-425b-9696-4106fd2bff31"
      },
      "outputs": [
        {
          "name": "stdout",
          "output_type": "stream",
          "text": [
            "python3: can't open file '/content/bonus_task_flask_deployment.py': [Errno 2] No such file or directory\n"
          ]
        }
      ],
      "source": [
        "!python bonus_task_flask_deployment.py"
      ]
    },
    {
      "cell_type": "code",
      "execution_count": null,
      "metadata": {
        "colab": {
          "background_save": true
        },
        "id": "206ee316"
      },
      "outputs": [],
      "source": [
        "!mkdir -p /content/"
      ]
    },
    {
      "cell_type": "code",
      "execution_count": null,
      "metadata": {
        "colab": {
          "background_save": true
        },
        "id": "WVtRpgdA6q5O",
        "outputId": "5476f549-4b7f-4506-abf9-1a8314c647e8"
      },
      "outputs": [
        {
          "name": "stderr",
          "output_type": "stream",
          "text": [
            "WARNING:absl:You are saving your model as an HDF5 file via `model.save()` or `keras.saving.save_model(model)`. This file format is considered legacy. We recommend using instead the native Keras format, e.g. `model.save('my_model.keras')` or `keras.saving.save_model(model, 'my_model.keras')`. \n"
          ]
        },
        {
          "name": "stdout",
          "output_type": "stream",
          "text": [
            "Model saved as mnist_cnn_model.h5\n"
          ]
        }
      ],
      "source": [
        "# Save the trained model\n",
        "model.save('mnist_cnn_model.h5')\n",
        "print(\"Model saved as mnist_cnn_model.h5\")"
      ]
    },
    {
      "cell_type": "code",
      "execution_count": null,
      "metadata": {
        "id": "sOlx3l5CWK4G"
      },
      "outputs": [],
      "source": [
        "# 1. Install localtunnel and its Python library\n",
        "!npm install -g localtunnel\n",
        "!pip install localtunnel\n",
        "\n",
        "# 2. Add the current directory to the system path (safety measure)\n",
        "import sys\n",
        "if '/content' not in sys.path:\n",
        "    sys.path.append('/content')\n",
        "\n",
        "# 3. Import and run the Flask app using a subprocess\n",
        "# This ensures it runs without blocking the notebook.\n",
        "import subprocess\n",
        "import time\n",
        "\n",
        "print(\"Starting Flask server...\")\n",
        "\n",
        "# Start the Flask app directly using python app.py\n",
        "# We use Popen so the process runs in the background.\n",
        "server_process = subprocess.Popen(\n",
        "    ['python', 'app.py'],\n",
        "    stdout=subprocess.PIPE,\n",
        "    stderr=subprocess.PIPE,\n",
        "    text=True\n",
        ")\n",
        "\n",
        "time.sleep(5) # Give the server 5 seconds to load the model and start.\n",
        "\n",
        "# Check the server output (this is where the model load message appears)\n",
        "print(\"\\n--- Server Startup Log Check ---\")\n",
        "stdout_output = server_process.stdout.read()\n",
        "stderr_output = server_process.stderr.read()\n",
        "\n",
        "print(\"STDOUT:\")\n",
        "print(stdout_output)\n",
        "print(\"STDERR:\")\n",
        "print(stderr_output)\n",
        "\n",
        "# Check if the process is still running after 5 seconds\n",
        "if server_process.poll() is not None:\n",
        "    print(\"\\n[CRITICAL ERROR] Flask server crashed immediately. Check the STDERR above for the error.\")\n",
        "else:\n",
        "    print(\"\\n[SUCCESS] Flask server is running in the background.\")"
      ]
    },
    {
      "cell_type": "code",
      "execution_count": null,
      "metadata": {
        "id": "G9yQcBL2WRoV"
      },
      "outputs": [],
      "source": [
        "# 1. Start the localtunnel service on port 5000\n",
        "# The command returns the public URL.\n",
        "print(\"Starting localtunnel...\")\n",
        "!lt --port 5000"
      ]
    }
  ],
  "metadata": {
    "colab": {
      "provenance": [],
      "include_colab_link": true
    },
    "kernelspec": {
      "display_name": "Python 3",
      "name": "python3"
    }
  },
  "nbformat": 4,
  "nbformat_minor": 0
}